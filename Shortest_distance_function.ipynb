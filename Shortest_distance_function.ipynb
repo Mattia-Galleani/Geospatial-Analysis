{
 "cells": [
  {
   "cell_type": "markdown",
   "metadata": {},
   "source": [
    "Import necessary packages"
   ]
  },
  {
   "cell_type": "code",
   "execution_count": 2,
   "metadata": {},
   "outputs": [],
   "source": [
    "import osmnx as ox\n",
    "import networkx as nx\n",
    "import pandas as pd #To deal with dataframes\n",
    "import tqdm #Not vital, only necessary to create the loading bar during distance calculation\n",
    "\n",
    "#Note: the following notebook has been created in Python 3.12.6"
   ]
  },
  {
   "cell_type": "markdown",
   "metadata": {},
   "source": [
    "General example of network distance between 2 points"
   ]
  },
  {
   "cell_type": "code",
   "execution_count": null,
   "metadata": {},
   "outputs": [
    {
     "name": "stderr",
     "output_type": "stream",
     "text": [
      "c:\\Users\\User\\AppData\\Local\\Programs\\Python\\Python312\\Lib\\site-packages\\osmnx\\graph.py:191: FutureWarning: The expected order of coordinates in `bbox` will change in the v2.0.0 release to `(left, bottom, right, top)`.\n",
      "  G = graph_from_bbox(\n"
     ]
    },
    {
     "name": "stdout",
     "output_type": "stream",
     "text": [
      "Walking distance: 311.94 meters\n"
     ]
    },
    {
     "name": "stderr",
     "output_type": "stream",
     "text": [
      "c:\\Users\\User\\AppData\\Local\\Programs\\Python\\Python312\\Lib\\site-packages\\osmnx\\graph.py:191: FutureWarning: The expected order of coordinates in `bbox` will change in the v2.0.0 release to `(left, bottom, right, top)`.\n",
      "  G = graph_from_bbox(\n"
     ]
    },
    {
     "name": "stdout",
     "output_type": "stream",
     "text": [
      "Closest network distances: [311.94]\n"
     ]
    }
   ],
   "source": [
    "import osmnx as ox\n",
    "import networkx as nx\n",
    "\n",
    "# Coordinates of points (latitude, longitude)\n",
    "point_a = (60.1699, 24.9384)  # Helsinki Central Station\n",
    "point_b = (60.1719, 24.9415)  # Helsinki Cathedral\n",
    "\n",
    "\n",
    "# Get a walking network for Helsinki\n",
    "G = ox.graph_from_point(point_a, dist=2000, network_type='walk')\n",
    "\n",
    "# Find the nearest nodes to the points\n",
    "node_a = ox.distance.nearest_nodes(G, X=point_a[1], Y=point_a[0])\n",
    "node_b = ox.distance.nearest_nodes(G, X=point_b[1], Y=point_b[0])\n",
    "\n",
    "# Calculate the shortest walking path distance\n",
    "distance_meters = nx.shortest_path_length(G, node_a, node_b, weight='length')\n",
    "print(f\"Walking distance: {distance_meters} meters\")\n",
    "\n",
    "\n",
    "list_a = [point_a]\n",
    "list_b = [point_b]\n",
    "# Define graph and convert point lists to nodes\n",
    "G = ox.graph_from_point((60.1699, 24.9384), dist=1000, network_type='walk')\n",
    "nodes_a = [ox.distance.nearest_nodes(G, x[1], x[0]) for x in list_a]\n",
    "nodes_b = [ox.distance.nearest_nodes(G, x[1], x[0]) for x in list_b]\n",
    "\n",
    "# Calculate nearest network distance\n",
    "results = []\n",
    "for node_a in nodes_a:\n",
    "    distances = [nx.shortest_path_length(G, node_a, node_b, weight='length') for node_b in nodes_b]\n",
    "    results.append(min(distances))\n",
    "\n",
    "print(\"Closest network distances:\", results)\n"
   ]
  },
  {
   "cell_type": "markdown",
   "metadata": {},
   "source": [
    "### Shortest path length function"
   ]
  },
  {
   "cell_type": "markdown",
   "metadata": {},
   "source": [
    "The following function develops on the preceding, and is used to calculate the shortest distance between the points contained in two dataframes. Such an information can be useful when conducting different spatial analyses (e.g. as a variable in an hedonic regression)"
   ]
  },
  {
   "cell_type": "code",
   "execution_count": null,
   "metadata": {},
   "outputs": [
    {
     "data": {
      "text/plain": [
       "\"\\n#Example DataFrames with latitudes and longitudes\\ndf1 = pd.DataFrame({\\n    'latitude': [60.1699, 60.1719],\\n    'longitude': [24.9384, 24.9425]\\n})\\n\\ndf2 = pd.DataFrame({\\n    'latitude': [60.1739, 60.1679],\\n    'longitude': [24.9415, 24.9365]\\n})\\n\\n# Run the function\\nresult_df = calculate_network_distance(df1, df2)\\n\\n# Print the result\\nprint(result_df)\""
      ]
     },
     "metadata": {},
     "output_type": "display_data"
    }
   ],
   "source": [
    "import osmnx as ox\n",
    "import networkx as nx\n",
    "import pandas as pd\n",
    "\n",
    "# Define the function to calculate the network-based distance\n",
    "def calculate_network_distance(df1, df2, network_type='walk', dist=2000):\n",
    "    # Initialize an empty list to store the results\n",
    "    distances = []\n",
    "    \n",
    "    # Get the walking network around the first point in df1 (this can be expanded for larger datasets)\n",
    "    G = ox.graph_from_point((df1['latitude'].iloc[0], df1['longitude'].iloc[0]), dist=dist, network_type=network_type)\n",
    "    \n",
    "    # For each point in df1, find the nearest network node\n",
    "    df1['node'] = df1.apply(lambda row: ox.distance.nearest_nodes(G, X=row['longitude'], Y=row['latitude']), axis=1)\n",
    "    \n",
    "    # For each point in df2, find the nearest network node\n",
    "    df2['node'] = df2.apply(lambda row: ox.distance.nearest_nodes(G, X=row['longitude'], Y=row['latitude']), axis=1)\n",
    "    \n",
    "    # Calculate the shortest path distance between each point in df1 and the closest point in df2\n",
    "    for _, row1 in tqdm.tqdm(df1.iterrows(), total=len(df1), desc=\"Calculating shortest distances\"):\n",
    "\n",
    "        # Get the node for the current point in df1\n",
    "        node_a = row1['node']\n",
    "        \n",
    "        # Find the nearest point in df2 and calculate the shortest path distance\n",
    "        distances_to_b = []\n",
    "        for _, row2 in df2.iterrows():\n",
    "            node_b = row2['node']\n",
    "            try:\n",
    "                # Calculate the shortest path length (in meters) between the nodes\n",
    "                distance = nx.shortest_path_length(G, node_a, node_b, weight='length')\n",
    "                distances_to_b.append(distance)\n",
    "            except nx.NetworkXNoPath:\n",
    "                # If no path exists, we can append a high distance value or NaN\n",
    "                distances_to_b.append(float('inf'))\n",
    "        \n",
    "        # Get the minimum distance to any point in df2 for the current point in df1\n",
    "        distances.append(min(distances_to_b))\n",
    "    \n",
    "    # Add the calculated distances to the dataframe df1\n",
    "    df1['closest_distance'] = distances\n",
    "    \n",
    "    return df1\n",
    "'''\n",
    "#Example DataFrames with latitudes and longitudes\n",
    "df1 = pd.DataFrame({\n",
    "    'latitude': [60.1699, 60.1719],\n",
    "    'longitude': [24.9384, 24.9425]\n",
    "})\n",
    "\n",
    "df2 = pd.DataFrame({\n",
    "    'latitude': [60.1739, 60.1679],\n",
    "    'longitude': [24.9415, 24.9365]\n",
    "})\n",
    "\n",
    "# Run the function\n",
    "result_df = calculate_network_distance(df1, df2)\n",
    "\n",
    "# Print the result\n",
    "print(result_df)'''\n"
   ]
  },
  {
   "cell_type": "markdown",
   "metadata": {},
   "source": [
    "An example using publicly available data on some of Milan's most famous buildings and Milan's metro stations"
   ]
  },
  {
   "cell_type": "code",
   "execution_count": 3,
   "metadata": {},
   "outputs": [],
   "source": [
    "milan_points = pd.read_csv('points_example.csv')\n",
    "milan_metro_stations = pd.read_csv('metro_stations.csv')"
   ]
  },
  {
   "cell_type": "code",
   "execution_count": null,
   "metadata": {},
   "outputs": [
    {
     "name": "stdout",
     "output_type": "stream",
     "text": [
      "Milan Points: \n",
      "    id                          point  latitude  longitude\n",
      "0   1                Duomo di Milano   45.4641     9.1919\n",
      "1   2                  Sforza Castle   45.4706     9.1796\n",
      "2   3  Galleria Vittorio Emanuele II   45.4642     9.1900\n",
      "3   4              Teatro alla Scala   45.4672     9.1896\n",
      "4   5       Santa Maria delle Grazie   45.4658     9.1702 \n",
      "\n",
      " Milan metro stations \n",
      "    ID   latitude  longitude\n",
      "0   1  45.546128   9.437564\n",
      "1   2  45.492662   9.192703\n",
      "2   3  45.430214   9.256324\n",
      "3   4  45.497771   9.184904\n",
      "4   5  45.505079   9.093327\n"
     ]
    }
   ],
   "source": [
    "print('Milan Points:', '\\n', milan_points.head(), '\\n\\n', 'Milan metro stations:', '\\n', milan_metro_stations.head())"
   ]
  },
  {
   "cell_type": "code",
   "execution_count": null,
   "metadata": {},
   "outputs": [
    {
     "name": "stderr",
     "output_type": "stream",
     "text": [
      "c:\\Users\\User\\AppData\\Local\\Programs\\Python\\Python312\\Lib\\site-packages\\osmnx\\graph.py:191: FutureWarning: The expected order of coordinates in `bbox` will change in the v2.0.0 release to `(left, bottom, right, top)`.\n",
      "  G = graph_from_bbox(\n",
      "Calculating shortest distances: 100%|██████████| 10/10 [01:16<00:00,  7.69s/it]\n"
     ]
    },
    {
     "data": {
      "text/html": [
       "<div>\n",
       "<style scoped>\n",
       "    .dataframe tbody tr th:only-of-type {\n",
       "        vertical-align: middle;\n",
       "    }\n",
       "\n",
       "    .dataframe tbody tr th {\n",
       "        vertical-align: top;\n",
       "    }\n",
       "\n",
       "    .dataframe thead th {\n",
       "        text-align: right;\n",
       "    }\n",
       "</style>\n",
       "<table border=\"1\" class=\"dataframe\">\n",
       "  <thead>\n",
       "    <tr style=\"text-align: right;\">\n",
       "      <th></th>\n",
       "      <th>id</th>\n",
       "      <th>point</th>\n",
       "      <th>latitude</th>\n",
       "      <th>longitude</th>\n",
       "      <th>node</th>\n",
       "      <th>network_distance</th>\n",
       "    </tr>\n",
       "  </thead>\n",
       "  <tbody>\n",
       "    <tr>\n",
       "      <th>0</th>\n",
       "      <td>1</td>\n",
       "      <td>Duomo di Milano</td>\n",
       "      <td>45.4641</td>\n",
       "      <td>9.1919</td>\n",
       "      <td>27653859</td>\n",
       "      <td>394.456</td>\n",
       "    </tr>\n",
       "    <tr>\n",
       "      <th>1</th>\n",
       "      <td>2</td>\n",
       "      <td>Sforza Castle</td>\n",
       "      <td>45.4706</td>\n",
       "      <td>9.1796</td>\n",
       "      <td>4660002386</td>\n",
       "      <td>315.642</td>\n",
       "    </tr>\n",
       "    <tr>\n",
       "      <th>2</th>\n",
       "      <td>3</td>\n",
       "      <td>Galleria Vittorio Emanuele II</td>\n",
       "      <td>45.4642</td>\n",
       "      <td>9.1900</td>\n",
       "      <td>3179633611</td>\n",
       "      <td>137.506</td>\n",
       "    </tr>\n",
       "    <tr>\n",
       "      <th>3</th>\n",
       "      <td>4</td>\n",
       "      <td>Teatro alla Scala</td>\n",
       "      <td>45.4672</td>\n",
       "      <td>9.1896</td>\n",
       "      <td>1829745661</td>\n",
       "      <td>346.871</td>\n",
       "    </tr>\n",
       "    <tr>\n",
       "      <th>4</th>\n",
       "      <td>5</td>\n",
       "      <td>Santa Maria delle Grazie</td>\n",
       "      <td>45.4658</td>\n",
       "      <td>9.1702</td>\n",
       "      <td>6425909405</td>\n",
       "      <td>445.029</td>\n",
       "    </tr>\n",
       "    <tr>\n",
       "      <th>5</th>\n",
       "      <td>6</td>\n",
       "      <td>Piazza del Duomo</td>\n",
       "      <td>45.4642</td>\n",
       "      <td>9.1900</td>\n",
       "      <td>3179633611</td>\n",
       "      <td>137.506</td>\n",
       "    </tr>\n",
       "    <tr>\n",
       "      <th>6</th>\n",
       "      <td>7</td>\n",
       "      <td>Brera Art Gallery</td>\n",
       "      <td>45.4720</td>\n",
       "      <td>9.1885</td>\n",
       "      <td>9031686444</td>\n",
       "      <td>625.574</td>\n",
       "    </tr>\n",
       "    <tr>\n",
       "      <th>7</th>\n",
       "      <td>8</td>\n",
       "      <td>San Siro Stadium</td>\n",
       "      <td>45.4781</td>\n",
       "      <td>9.1241</td>\n",
       "      <td>9545171629</td>\n",
       "      <td>203.070</td>\n",
       "    </tr>\n",
       "    <tr>\n",
       "      <th>8</th>\n",
       "      <td>9</td>\n",
       "      <td>Porta Nuova</td>\n",
       "      <td>45.4812</td>\n",
       "      <td>9.1919</td>\n",
       "      <td>2737402668</td>\n",
       "      <td>110.461</td>\n",
       "    </tr>\n",
       "    <tr>\n",
       "      <th>9</th>\n",
       "      <td>10</td>\n",
       "      <td>Arco della Pace</td>\n",
       "      <td>45.4730</td>\n",
       "      <td>9.1706</td>\n",
       "      <td>6445540335</td>\n",
       "      <td>517.583</td>\n",
       "    </tr>\n",
       "  </tbody>\n",
       "</table>\n",
       "</div>"
      ],
      "text/plain": [
       "   id                          point  latitude  longitude        node  \\\n",
       "0   1                Duomo di Milano   45.4641     9.1919    27653859   \n",
       "1   2                  Sforza Castle   45.4706     9.1796  4660002386   \n",
       "2   3  Galleria Vittorio Emanuele II   45.4642     9.1900  3179633611   \n",
       "3   4              Teatro alla Scala   45.4672     9.1896  1829745661   \n",
       "4   5       Santa Maria delle Grazie   45.4658     9.1702  6425909405   \n",
       "5   6               Piazza del Duomo   45.4642     9.1900  3179633611   \n",
       "6   7              Brera Art Gallery   45.4720     9.1885  9031686444   \n",
       "7   8               San Siro Stadium   45.4781     9.1241  9545171629   \n",
       "8   9                    Porta Nuova   45.4812     9.1919  2737402668   \n",
       "9  10                Arco della Pace   45.4730     9.1706  6445540335   \n",
       "\n",
       "   network_distance  \n",
       "0           394.456  \n",
       "1           315.642  \n",
       "2           137.506  \n",
       "3           346.871  \n",
       "4           445.029  \n",
       "5           137.506  \n",
       "6           625.574  \n",
       "7           203.070  \n",
       "8           110.461  \n",
       "9           517.583  "
      ]
     },
     "metadata": {},
     "output_type": "display_data"
    }
   ],
   "source": [
    "calculate_network_distance(milan_points,milan_metro_stations)"
   ]
  }
 ],
 "metadata": {
  "kernelspec": {
   "display_name": "Python 3",
   "language": "python",
   "name": "python3"
  },
  "language_info": {
   "codemirror_mode": {
    "name": "ipython",
    "version": 3
   },
   "file_extension": ".py",
   "mimetype": "text/x-python",
   "name": "python",
   "nbconvert_exporter": "python",
   "pygments_lexer": "ipython3",
   "version": "3.12.6"
  }
 },
 "nbformat": 4,
 "nbformat_minor": 2
}
